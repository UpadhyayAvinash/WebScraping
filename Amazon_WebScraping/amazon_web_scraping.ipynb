{
 "cells": [
  {
   "cell_type": "code",
   "execution_count": 46,
   "metadata": {},
   "outputs": [],
   "source": [
    "#libaries\n",
    "\n",
    "import requests\n",
    "from bs4 import BeautifulSoup as soup\n",
    "import time\n",
    "import datetime\n",
    "import smtplib\n",
    "import pandas as pd\n",
    "import numpy as np"
   ]
  },
  {
   "cell_type": "code",
   "execution_count": 47,
   "metadata": {},
   "outputs": [
    {
     "data": {
      "text/plain": [
       "200"
      ]
     },
     "execution_count": 47,
     "metadata": {},
     "output_type": "execute_result"
    }
   ],
   "source": [
    "#connect to website\n",
    "\n",
    "url='https://www.amazon.in/dp/B09Q18F63X/ref=redir_mobile_desktop?_encoding=UTF8&aaxitk=73a213c67d4820fb3a728d674ef5dba6&content-id=amzn1.sym.c679a10e-5f33-4f2e-b014-f92eed44a58f%3Aamzn1.sym.c679a10e-5f33-4f2e-b014-f92eed44a58f&hsa_cr_id=6035307720702&pd_rd_plhdr=t&pd_rd_r=057363e3-65ed-4d66-9827-3ae143c4ad17&pd_rd_w=SMypm&pd_rd_wg=zrvsx&qid=1667653460&ref_=sbx_be_s_sparkle_mcd_asin_0_img&sr=1-1-fd947bf3-57d2-4cc9-939d-2805f92cef28'\n",
    "\n",
    "# website to get headers (http://httpbin.org/get)\n",
    "headers = {\"User-Agent\": \"Mozilla/5.0 (Windows NT 10.0; Win64; x64) AppleWebKit/537.36 (KHTML, like Gecko) Chrome/107.0.0.0 Safari/537.36\", }\n",
    "\n",
    "page=requests.get(url,headers = headers)\n",
    "page.status_code"
   ]
  },
  {
   "cell_type": "code",
   "execution_count": 48,
   "metadata": {},
   "outputs": [],
   "source": [
    "soupobj = soup(page.content,\"html.parser\")\n",
    "#print(soupobj.prettify)"
   ]
  },
  {
   "cell_type": "code",
   "execution_count": 49,
   "metadata": {},
   "outputs": [
    {
     "data": {
      "text/plain": [
       "\"Xiaomi 11T Pro 5G Hyperphone (Celestial Magic, 8GB RAM, 128GB Storage) |SD 888|120W HyperCharge|Segment's only Phone with Dolby Vision+Dolby Atmos\""
      ]
     },
     "execution_count": 49,
     "metadata": {},
     "output_type": "execute_result"
    }
   ],
   "source": [
    "# product_title1 = soupobj.find(id='productTitle').get_text().strip()\n",
    "# product_title1\n",
    "\n",
    "product_title = soupobj.find('span',{'id':'productTitle'}).text.strip()\n",
    "product_title\n"
   ]
  },
  {
   "cell_type": "code",
   "execution_count": 50,
   "metadata": {},
   "outputs": [
    {
     "data": {
      "text/plain": [
       "'34,999.00'"
      ]
     },
     "execution_count": 50,
     "metadata": {},
     "output_type": "execute_result"
    }
   ],
   "source": [
    "product_price = soupobj.find('span',{'class' : 'a-offscreen'}).text.strip()[1:]\n",
    "product_price"
   ]
  },
  {
   "cell_type": "code",
   "execution_count": 51,
   "metadata": {},
   "outputs": [
    {
     "name": "stdout",
     "output_type": "stream",
     "text": [
      "2022-11-05\n"
     ]
    }
   ],
   "source": [
    "today = datetime.date.today()\n",
    "print(today)"
   ]
  },
  {
   "cell_type": "code",
   "execution_count": 52,
   "metadata": {},
   "outputs": [],
   "source": [
    "import csv\n",
    "\n",
    "header = ['Title','Price','Date']\n",
    "data = [product_title,product_price,today]\n",
    "\n",
    "# with open('amazon_webScraping_data.csv', 'w',newline='',encoding='UTF8') as f:\n",
    "#     writer = csv.writer(f)\n",
    "#     writer.writerow(header)\n",
    "#     writer.writerow(data)\n"
   ]
  },
  {
   "cell_type": "code",
   "execution_count": 53,
   "metadata": {},
   "outputs": [
    {
     "data": {
      "text/html": [
       "<div>\n",
       "<style scoped>\n",
       "    .dataframe tbody tr th:only-of-type {\n",
       "        vertical-align: middle;\n",
       "    }\n",
       "\n",
       "    .dataframe tbody tr th {\n",
       "        vertical-align: top;\n",
       "    }\n",
       "\n",
       "    .dataframe thead th {\n",
       "        text-align: right;\n",
       "    }\n",
       "</style>\n",
       "<table border=\"1\" class=\"dataframe\">\n",
       "  <thead>\n",
       "    <tr style=\"text-align: right;\">\n",
       "      <th></th>\n",
       "      <th>Title</th>\n",
       "      <th>Price</th>\n",
       "      <th>Date</th>\n",
       "    </tr>\n",
       "  </thead>\n",
       "  <tbody>\n",
       "    <tr>\n",
       "      <th>0</th>\n",
       "      <td>Xiaomi 11T Pro 5G Hyperphone (Celestial Magic,...</td>\n",
       "      <td>34,999.00</td>\n",
       "      <td>2022-11-05</td>\n",
       "    </tr>\n",
       "  </tbody>\n",
       "</table>\n",
       "</div>"
      ],
      "text/plain": [
       "                                               Title      Price        Date\n",
       "0  Xiaomi 11T Pro 5G Hyperphone (Celestial Magic,...  34,999.00  2022-11-05"
      ]
     },
     "execution_count": 53,
     "metadata": {},
     "output_type": "execute_result"
    }
   ],
   "source": [
    "df = pd.read_csv(r'D:\\Avinash Coding\\Python\\amazon_webScraping_data.csv')\n",
    "df"
   ]
  },
  {
   "cell_type": "code",
   "execution_count": 54,
   "metadata": {},
   "outputs": [],
   "source": [
    "#appending data to the table\n",
    "\n",
    "with open('amazon_webScraping_data.csv', 'a+',newline='',encoding='UTF8') as f:\n",
    "    writer = csv.writer(f)\n",
    "    writer.writerow(data)\n"
   ]
  },
  {
   "cell_type": "code",
   "execution_count": 55,
   "metadata": {},
   "outputs": [],
   "source": [
    "def check_price():\n",
    "    \n",
    "    url='https://www.amazon.in/dp/B09Q18F63X/ref=redir_mobile_desktop?_encoding=UTF8&aaxitk=73a213c67d4820fb3a728d674ef5dba6&content-id=amzn1.sym.c679a10e-5f33-4f2e-b014-f92eed44a58f%3Aamzn1.sym.c679a10e-5f33-4f2e-b014-f92eed44a58f&hsa_cr_id=6035307720702&pd_rd_plhdr=t&pd_rd_r=057363e3-65ed-4d66-9827-3ae143c4ad17&pd_rd_w=SMypm&pd_rd_wg=zrvsx&qid=1667653460&ref_=sbx_be_s_sparkle_mcd_asin_0_img&sr=1-1-fd947bf3-57d2-4cc9-939d-2805f92cef28'\n",
    "    \n",
    "    # website to get headers (http://httpbin.org/get)\n",
    "    headers = {\"User-Agent\": \"Mozilla/5.0 (Windows NT 10.0; Win64; x64) AppleWebKit/537.36 (KHTML, like Gecko) Chrome/107.0.0.0 Safari/537.36\", }\n",
    "\n",
    "    page=requests.get(url,headers = headers)\n",
    "\n",
    "    product_title = soupobj.find('span',{'id':'productTitle'}).text.strip()\n",
    "    product_price = soupobj.find('span',{'class' : 'a-offscreen'}).text.strip()[1:]\n",
    "\n",
    "    today = datetime.date.today()\n",
    "\n",
    "    import csv\n",
    "\n",
    "    header = ['Title','Price','Date']\n",
    "    data = [product_title,product_price,today]\n",
    "\n",
    "    #appending data to the table\n",
    "\n",
    "    with open('amazon_webScraping_data.csv', 'a+',newline='',encoding='UTF8') as f:\n",
    "        writer = csv.writer(f)\n",
    "        writer.writerow(data)\n",
    "\n",
    "\n",
    "    \n",
    "    \n",
    "    "
   ]
  },
  {
   "cell_type": "code",
   "execution_count": 56,
   "metadata": {},
   "outputs": [
    {
     "ename": "KeyboardInterrupt",
     "evalue": "",
     "output_type": "error",
     "traceback": [
      "\u001b[1;31m---------------------------------------------------------------------------\u001b[0m",
      "\u001b[1;31mKeyboardInterrupt\u001b[0m                         Traceback (most recent call last)",
      "\u001b[1;32md:\\Avinash Coding\\Python\\amazon_web_scraping.ipynb Cell 11\u001b[0m in \u001b[0;36m<cell line: 2>\u001b[1;34m()\u001b[0m\n\u001b[0;32m      <a href='vscode-notebook-cell:/d%3A/Avinash%20Coding/Python/amazon_web_scraping.ipynb#X14sZmlsZQ%3D%3D?line=0'>1</a>\u001b[0m \u001b[39mwhile\u001b[39;00m(\u001b[39mTrue\u001b[39;00m):\n\u001b[0;32m      <a href='vscode-notebook-cell:/d%3A/Avinash%20Coding/Python/amazon_web_scraping.ipynb#X14sZmlsZQ%3D%3D?line=1'>2</a>\u001b[0m     check_price()\n\u001b[1;32m----> <a href='vscode-notebook-cell:/d%3A/Avinash%20Coding/Python/amazon_web_scraping.ipynb#X14sZmlsZQ%3D%3D?line=2'>3</a>\u001b[0m     time\u001b[39m.\u001b[39;49msleep(\u001b[39m5\u001b[39;49m)\n",
      "\u001b[1;31mKeyboardInterrupt\u001b[0m: "
     ]
    }
   ],
   "source": [
    "while(True):\n",
    "    check_price()\n",
    "    time.sleep(86400)"
   ]
  },
  {
   "cell_type": "code",
   "execution_count": 57,
   "metadata": {},
   "outputs": [
    {
     "data": {
      "text/html": [
       "<div>\n",
       "<style scoped>\n",
       "    .dataframe tbody tr th:only-of-type {\n",
       "        vertical-align: middle;\n",
       "    }\n",
       "\n",
       "    .dataframe tbody tr th {\n",
       "        vertical-align: top;\n",
       "    }\n",
       "\n",
       "    .dataframe thead th {\n",
       "        text-align: right;\n",
       "    }\n",
       "</style>\n",
       "<table border=\"1\" class=\"dataframe\">\n",
       "  <thead>\n",
       "    <tr style=\"text-align: right;\">\n",
       "      <th></th>\n",
       "      <th>Title</th>\n",
       "      <th>Price</th>\n",
       "      <th>Date</th>\n",
       "    </tr>\n",
       "  </thead>\n",
       "  <tbody>\n",
       "    <tr>\n",
       "      <th>0</th>\n",
       "      <td>Xiaomi 11T Pro 5G Hyperphone (Celestial Magic,...</td>\n",
       "      <td>34,999.00</td>\n",
       "      <td>2022-11-05</td>\n",
       "    </tr>\n",
       "    <tr>\n",
       "      <th>1</th>\n",
       "      <td>Xiaomi 11T Pro 5G Hyperphone (Celestial Magic,...</td>\n",
       "      <td>34,999.00</td>\n",
       "      <td>2022-11-05</td>\n",
       "    </tr>\n",
       "    <tr>\n",
       "      <th>2</th>\n",
       "      <td>Xiaomi 11T Pro 5G Hyperphone (Celestial Magic,...</td>\n",
       "      <td>34,999.00</td>\n",
       "      <td>2022-11-05</td>\n",
       "    </tr>\n",
       "    <tr>\n",
       "      <th>3</th>\n",
       "      <td>Xiaomi 11T Pro 5G Hyperphone (Celestial Magic,...</td>\n",
       "      <td>34,999.00</td>\n",
       "      <td>2022-11-05</td>\n",
       "    </tr>\n",
       "    <tr>\n",
       "      <th>4</th>\n",
       "      <td>Xiaomi 11T Pro 5G Hyperphone (Celestial Magic,...</td>\n",
       "      <td>34,999.00</td>\n",
       "      <td>2022-11-05</td>\n",
       "    </tr>\n",
       "    <tr>\n",
       "      <th>5</th>\n",
       "      <td>Xiaomi 11T Pro 5G Hyperphone (Celestial Magic,...</td>\n",
       "      <td>34,999.00</td>\n",
       "      <td>2022-11-05</td>\n",
       "    </tr>\n",
       "  </tbody>\n",
       "</table>\n",
       "</div>"
      ],
      "text/plain": [
       "                                               Title      Price        Date\n",
       "0  Xiaomi 11T Pro 5G Hyperphone (Celestial Magic,...  34,999.00  2022-11-05\n",
       "1  Xiaomi 11T Pro 5G Hyperphone (Celestial Magic,...  34,999.00  2022-11-05\n",
       "2  Xiaomi 11T Pro 5G Hyperphone (Celestial Magic,...  34,999.00  2022-11-05\n",
       "3  Xiaomi 11T Pro 5G Hyperphone (Celestial Magic,...  34,999.00  2022-11-05\n",
       "4  Xiaomi 11T Pro 5G Hyperphone (Celestial Magic,...  34,999.00  2022-11-05\n",
       "5  Xiaomi 11T Pro 5G Hyperphone (Celestial Magic,...  34,999.00  2022-11-05"
      ]
     },
     "execution_count": 57,
     "metadata": {},
     "output_type": "execute_result"
    }
   ],
   "source": [
    "df = pd.read_csv(r'D:\\Avinash Coding\\Python\\amazon_webScraping_data.csv')\n",
    "df"
   ]
  }
 ],
 "metadata": {
  "kernelspec": {
   "display_name": "Python 3.9.12 ('base')",
   "language": "python",
   "name": "python3"
  },
  "language_info": {
   "codemirror_mode": {
    "name": "ipython",
    "version": 3
   },
   "file_extension": ".py",
   "mimetype": "text/x-python",
   "name": "python",
   "nbconvert_exporter": "python",
   "pygments_lexer": "ipython3",
   "version": "3.9.12 (main, Apr  4 2022, 05:22:27) [MSC v.1916 64 bit (AMD64)]"
  },
  "orig_nbformat": 4,
  "vscode": {
   "interpreter": {
    "hash": "8844d12163ed69da7bc0c26dfa86f40ca167cf22a01e1c8522305059ebc80711"
   }
  }
 },
 "nbformat": 4,
 "nbformat_minor": 2
}
